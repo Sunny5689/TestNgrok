{
 "cells": [
  {
   "cell_type": "code",
   "execution_count": 1,
   "id": "e112d31b-254a-4c56-9f28-d0ec4b970d8e",
   "metadata": {},
   "outputs": [],
   "source": [
    "# https://ecd6-13-73-34-229.ngrok-free.app/?token=123456\n",
    "import subprocess"
   ]
  },
  {
   "cell_type": "code",
   "execution_count": 2,
   "id": "ce71feff-fda6-4436-93f1-dcb42f8e5ed5",
   "metadata": {},
   "outputs": [],
   "source": [
    "def cmd_run(cmd,workspace = None,return_cmd = False):\n",
    "    if workspace:\n",
    "        cmd = 'cd %s && %s' %(workspace,cmd)\n",
    "    if return_cmd:\n",
    "        return cmd\n",
    "    result = subprocess.getoutput(cmd)\n",
    "    \n",
    "    return result"
   ]
  },
  {
   "cell_type": "code",
   "execution_count": 3,
   "id": "3f189fb9-f162-4c18-a6f4-e1de1478b04f",
   "metadata": {},
   "outputs": [
    {
     "data": {
      "text/plain": [
       "''"
      ]
     },
     "execution_count": 3,
     "metadata": {},
     "output_type": "execute_result"
    }
   ],
   "source": [
    "cmd_run('mkdir pdf_dir')\n",
    "cmd_run('mkdir figures_tmp')\n",
    "cmd_run('mkdir output_dir')"
   ]
  },
  {
   "cell_type": "code",
   "execution_count": 4,
   "id": "63cbdf4c-8e20-4894-bd7b-567c748f32fa",
   "metadata": {},
   "outputs": [
    {
     "name": "stdout",
     "output_type": "stream",
     "text": [
      "Defaulting to user installation because normal site-packages is not writeable\n",
      "Collecting arxiv-downloader\n",
      "  Downloading arxiv_downloader-0.0.1-py3-none-any.whl (4.0 kB)\n",
      "Collecting arxiv==1.2.0\n",
      "  Downloading arxiv-1.2.0-py3-none-any.whl (10 kB)\n",
      "Collecting feedparser\n",
      "  Downloading feedparser-6.0.11-py3-none-any.whl (81 kB)\n",
      "\u001b[2K     \u001b[90m━━━━━━━━━━━━━━━━━━━━━━━━━━━━━━━━━━━━━━━━\u001b[0m \u001b[32m81.3/81.3 KB\u001b[0m \u001b[31m7.0 MB/s\u001b[0m eta \u001b[36m0:00:00\u001b[0m\n",
      "\u001b[?25hCollecting sgmllib3k\n",
      "  Downloading sgmllib3k-1.0.0.tar.gz (5.8 kB)\n",
      "  Preparing metadata (setup.py) ... \u001b[?25ldone\n",
      "\u001b[?25hBuilding wheels for collected packages: sgmllib3k\n",
      "  Building wheel for sgmllib3k (setup.py) ... \u001b[?25ldone\n",
      "\u001b[?25h  Created wheel for sgmllib3k: filename=sgmllib3k-1.0.0-py3-none-any.whl size=6066 sha256=7301dc40b345895225e3f75d83fbd4970519ff7e83d82f59b902c5b2918800b4\n",
      "  Stored in directory: /home/runner/.cache/pip/wheels/f0/69/93/a47e9d621be168e9e33c7ce60524393c0b92ae83cf6c6e89c5\n",
      "Successfully built sgmllib3k\n",
      "Installing collected packages: sgmllib3k, feedparser, arxiv, arxiv-downloader\n",
      "Successfully installed arxiv-1.2.0 arxiv-downloader-0.0.1 feedparser-6.0.11 sgmllib3k-1.0.0\n"
     ]
    }
   ],
   "source": [
    "!pip install arxiv-downloader\n"
   ]
  },
  {
   "cell_type": "code",
   "execution_count": 5,
   "id": "5424a314-d9bd-41f1-a0aa-81ada2a74e0d",
   "metadata": {},
   "outputs": [],
   "source": [
    "command = '''\n",
    "cd pdf_dir && rm *\n",
    "arxiv-downloader --url https://arxiv.org/pdf/2110.01889\n",
    "arxiv-downloader --url https://arxiv.org/abs/2110.01889\n",
    "arxiv-downloader --url https://arxiv.org/abs/2305.18446\n",
    "cd ..\n",
    "'''"
   ]
  },
  {
   "cell_type": "code",
   "execution_count": 6,
   "id": "e6b2e330-60b4-4a34-9608-e5549270b69e",
   "metadata": {},
   "outputs": [
    {
     "data": {
      "text/plain": [
       "'rm: cannot remove \\'*\\': No such file or directory\\nStarting download of article: \"Deep Neural Networks and Tabular Data: A Survey\" (2110.01889)\\nDownload finished! Result saved at:\\n./2110.01889v3.Deep_Neural_Networks_and_Tabular_Data_A_Survey.pdf\\nStarting download of article: \"Deep Neural Networks and Tabular Data: A Survey\" (2110.01889)\\nDownload finished! Result saved at:\\n./2110.01889v3.Deep_Neural_Networks_and_Tabular_Data_A_Survey.pdf\\nStarting download of article: \"Trompt: Towards a Better Deep Neural Network for Tabular Data\" (2305.18446)\\nDownload finished! Result saved at:\\n./2305.18446v2.Trompt_Towards_a_Better_Deep_Neural_Network_for_Tabular_Data.pdf'"
      ]
     },
     "execution_count": 6,
     "metadata": {},
     "output_type": "execute_result"
    }
   ],
   "source": [
    "cmd_run(command)"
   ]
  },
  {
   "cell_type": "code",
   "execution_count": 7,
   "id": "fcd72d82-3316-40f8-9521-2242db0aa545",
   "metadata": {},
   "outputs": [
    {
     "name": "stdout",
     "output_type": "stream",
     "text": [
      "2110.01889v3.Deep_Neural_Networks_and_Tabular_Data_A_Survey.pdf\n",
      "2305.18446v2.Trompt_Towards_a_Better_Deep_Neural_Network_for_Tabular_Data.pdf\n"
     ]
    }
   ],
   "source": [
    "!ls pdf_dir"
   ]
  },
  {
   "cell_type": "code",
   "execution_count": 8,
   "id": "4ede9351-ec10-4fae-9003-bba3bdf3433e",
   "metadata": {},
   "outputs": [
    {
     "name": "stdout",
     "output_type": "stream",
     "text": [
      "README.md\tng.py\t    pdffigures2-master.zip  run.sh\n",
      "Untitled.ipynb\toutput_dir  remote.ipynb\t    wandb\n",
      "figures_tmp\tpdf_dir     remote.py\n"
     ]
    }
   ],
   "source": [
    "!ls"
   ]
  },
  {
   "cell_type": "code",
   "execution_count": 1,
   "id": "0e522466-6d6a-4c62-95cb-30141c0ddea5",
   "metadata": {},
   "outputs": [
    {
     "name": "stdout",
     "output_type": "stream",
     "text": [
      "Archive:  pdffigures2-master.zip\n",
      "replace .gitignore? [y]es, [n]o, [A]ll, [N]one, [r]ename:   inflating: .gitignore              \n",
      "replace .scalafmt.conf? [y]es, [n]o, [A]ll, [N]one, [r]ename:   inflating: .scalafmt.conf          \n",
      "replace build.sbt? [y]es, [n]o, [A]ll, [N]one, [r]ename:   inflating: build.sbt               \n",
      "replace evaluation/.gitignore? [y]es, [n]o, [A]ll, [N]one, [r]ename:  extracting: evaluation/.gitignore   \n",
      "replace evaluation/build_evaluation.py? [y]es, [n]o, [A]ll, [N]one, [r]ename:   inflating: evaluation/build_evaluation.py  \n",
      "replace evaluation/build_section_eval.py? [y]es, [n]o, [A]ll, [N]one, [r]ename:   inflating: evaluation/build_section_eval.py  \n",
      "replace evaluation/compare_evaluation.py? [y]es, [n]o, [A]ll, [N]one, [r]ename:   inflating: evaluation/compare_evaluation.py  \n",
      "replace evaluation/datasets/build_dataset_images.py? [y]es, [n]o, [A]ll, [N]one, [r]ename:   inflating: evaluation/datasets/build_dataset_images.py  \n",
      "replace evaluation/datasets/conference/annotations.json? [y]es, [n]o, [A]ll, [N]one, [r]ename:   inflating: evaluation/datasets/conference/annotations.json  \n",
      "replace evaluation/datasets/conference/doc_ids.txt? [y]es, [n]o, [A]ll, [N]one, [r]ename:   inflating: evaluation/datasets/conference/doc_ids.txt  \n",
      "replace evaluation/datasets/datasets.py? [y]es, [n]o, [A]ll, [N]one, [r]ename:   inflating: evaluation/datasets/datasets.py  \n",
      "replace evaluation/datasets/non_standard_documents.txt? [y]es, [n]o, [A]ll, [N]one, [r]ename:  extracting: evaluation/datasets/non_standard_documents.txt  \n",
      "replace evaluation/datasets/README.md? [y]es, [n]o, [A]ll, [N]one, [r]ename:   inflating: evaluation/datasets/README.md  \n",
      "replace evaluation/datasets/s2/annotations.json? [y]es, [n]o, [A]ll, [N]one, [r]ename:   inflating: evaluation/datasets/s2/annotations.json  \n",
      "replace evaluation/datasets/s2/doc_ids.txt? [y]es, [n]o, [A]ll, [N]one, [r]ename:   inflating: evaluation/datasets/s2/doc_ids.txt  \n",
      "replace evaluation/datasets/s2/non_standard_documents.txt? [y]es, [n]o, [A]ll, [N]one, [r]ename:   inflating: evaluation/datasets/s2/non_standard_documents.txt  \n",
      "replace evaluation/datasets/s2/pages_annotated.json? [y]es, [n]o, [A]ll, [N]one, [r]ename:   inflating: evaluation/datasets/s2/pages_annotated.json  \n",
      "replace evaluation/datasets/section-annotations.json? [y]es, [n]o, [A]ll, [N]one, [r]ename:   inflating: evaluation/datasets/section-annotations.json  \n",
      "replace evaluation/datasets/test_datasets.py? [y]es, [n]o, [A]ll, [N]one, [r]ename:   inflating: evaluation/datasets/test_datasets.py  \n",
      "replace evaluation/datasets/visualize_annotations.py? [y]es, [n]o, [A]ll, [N]one, [r]ename:   inflating: evaluation/datasets/visualize_annotations.py  \n",
      "replace evaluation/datasets/__init__.py? [y]es, [n]o, [A]ll, [N]one, [r]ename:  extracting: evaluation/datasets/__init__.py  \n",
      "replace evaluation/download_from_urls.py? [y]es, [n]o, [A]ll, [N]one, [r]ename:   inflating: evaluation/download_from_urls.py  \n",
      "replace evaluation/extractors.py? [y]es, [n]o, [A]ll, [N]one, [r]ename:   inflating: evaluation/extractors.py  \n",
      "replace evaluation/parse_evaluation.py? [y]es, [n]o, [A]ll, [N]one, [r]ename:   inflating: evaluation/parse_evaluation.py  \n",
      "replace evaluation/pdffigures_utils.py? [y]es, [n]o, [A]ll, [N]one, [r]ename:   inflating: evaluation/pdffigures_utils.py  \n",
      "replace evaluation/print_dataset_stats.py? [y]es, [n]o, [A]ll, [N]one, [r]ename:   inflating: evaluation/print_dataset_stats.py  \n",
      "replace evaluation/README.md? [y]es, [n]o, [A]ll, [N]one, [r]ename:   inflating: evaluation/README.md    \n",
      "replace evaluation/section_extractors.py? [y]es, [n]o, [A]ll, [N]one, [r]ename:   inflating: evaluation/section_extractors.py  \n",
      "replace evaluation/time_extractor.py? [y]es, [n]o, [A]ll, [N]one, [r]ename:   inflating: evaluation/time_extractor.py  \n",
      "replace evaluation/__init__.py? [y]es, [n]o, [A]ll, [N]one, [r]ename:  extracting: evaluation/__init__.py  \n",
      "replace LICENSE.txt? [y]es, [n]o, [A]ll, [N]one, [r]ename:   inflating: LICENSE.txt             \n",
      "replace project/build.properties? [y]es, [n]o, [A]ll, [N]one, [r]ename:  extracting: project/build.properties  \n",
      "replace project/plugins.sbt? [y]es, [n]o, [A]ll, [N]one, [r]ename:   inflating: project/plugins.sbt     \n",
      "replace README.md? [y]es, [n]o, [A]ll, [N]one, [r]ename:   inflating: README.md               \n",
      "   creating: src/\n",
      "   creating: src/main/\n",
      "   creating: src/main/java/\n",
      "   creating: src/main/java/org/\n",
      "   creating: src/main/java/org/allenai/\n",
      "   creating: src/main/java/org/allenai/pdffigures2/\n",
      "  inflating: src/main/java/org/allenai/pdffigures2/RegexWithTimeout.java  \n",
      "   creating: src/main/resources/\n",
      "  inflating: src/main/resources/logback.xml  \n",
      "   creating: src/main/scala/\n",
      "   creating: src/main/scala/org/\n",
      "   creating: src/main/scala/org/allenai/\n",
      "   creating: src/main/scala/org/allenai/pdffigures2/\n",
      "  inflating: src/main/scala/org/allenai/pdffigures2/Box.scala  \n",
      "  inflating: src/main/scala/org/allenai/pdffigures2/CaptionBuilder.scala  \n",
      "  inflating: src/main/scala/org/allenai/pdffigures2/CaptionDetector.scala  \n",
      "  inflating: src/main/scala/org/allenai/pdffigures2/DocumentLayout.scala  \n",
      "  inflating: src/main/scala/org/allenai/pdffigures2/Figure.scala  \n",
      "  inflating: src/main/scala/org/allenai/pdffigures2/FigureDetector.scala  \n",
      "  inflating: src/main/scala/org/allenai/pdffigures2/FigureExtractor.scala  \n",
      "  inflating: src/main/scala/org/allenai/pdffigures2/FigureExtractorBatchCli.scala  \n",
      "  inflating: src/main/scala/org/allenai/pdffigures2/FigureExtractorVisualizationCli.scala  \n",
      "  inflating: src/main/scala/org/allenai/pdffigures2/FigureRenderer.scala  \n",
      "  inflating: src/main/scala/org/allenai/pdffigures2/FindGraphicsRaster.scala  \n",
      "  inflating: src/main/scala/org/allenai/pdffigures2/FormattingTextExtractor.scala  \n",
      "  inflating: src/main/scala/org/allenai/pdffigures2/GraphicBBDetector.scala  \n",
      "  inflating: src/main/scala/org/allenai/pdffigures2/GraphicsExtractor.scala  \n",
      "  inflating: src/main/scala/org/allenai/pdffigures2/InterruptiblePDFRenderer.scala  \n",
      "  inflating: src/main/scala/org/allenai/pdffigures2/JsonProtocol.scala  \n",
      "  inflating: src/main/scala/org/allenai/pdffigures2/Logging.scala  \n",
      "  inflating: src/main/scala/org/allenai/pdffigures2/PageStructure.scala  \n",
      "  inflating: src/main/scala/org/allenai/pdffigures2/Paragraph.scala  \n",
      "  inflating: src/main/scala/org/allenai/pdffigures2/ParagraphRebuilder.scala  \n",
      "  inflating: src/main/scala/org/allenai/pdffigures2/RegionClassifier.scala  \n",
      "  inflating: src/main/scala/org/allenai/pdffigures2/SectionedTextBuilder.scala  \n",
      "  inflating: src/main/scala/org/allenai/pdffigures2/SectionTitleExtractor.scala  \n",
      "  inflating: src/main/scala/org/allenai/pdffigures2/TextExtractor.scala  \n",
      "  inflating: src/main/scala/org/allenai/pdffigures2/VisualLogger.scala  \n",
      "   creating: src/test/\n",
      "   creating: src/test/resources/\n",
      "   creating: src/test/resources/test-pdfs/\n",
      "  inflating: src/test/resources/test-pdfs/3a9202f9f176d3377516e3da0866cc19148c033b.pdf  \n",
      "  inflating: src/test/resources/test-pdfs/498bb0efad6ec15dd09d941fb309aa18d6df9f5f.pdf  \n",
      "  inflating: src/test/resources/test-pdfs/f63cb20759fab2514802c3ef2a743c76bf9dc9f1.pdf  \n",
      "   creating: src/test/scala/\n",
      "   creating: src/test/scala/org/\n",
      "   creating: src/test/scala/org/allenai/\n",
      "   creating: src/test/scala/org/allenai/pdffigures2/\n",
      "  inflating: src/test/scala/org/allenai/pdffigures2/TestExtractionFilters.scala  \n",
      "yes: standard output: Broken pipe\n"
     ]
    }
   ],
   "source": [
    "!yes | unzip pdffigures2-master.zip"
   ]
  },
  {
   "cell_type": "code",
   "execution_count": 2,
   "id": "7e8fb84b-96f6-423c-80bc-c1244279e0e7",
   "metadata": {},
   "outputs": [
    {
     "name": "stdout",
     "output_type": "stream",
     "text": [
      "LICENSE.txt\tevaluation   pdf_dir\t\t     remote.py\n",
      "README.md\tfigures_tmp  pdffigures2-master.zip  run.sh\n",
      "Untitled.ipynb\tng.py\t     project\t\t     src\n",
      "build.sbt\toutput_dir   remote.ipynb\t     wandb\n"
     ]
    }
   ],
   "source": [
    "!ls"
   ]
  },
  {
   "cell_type": "code",
   "execution_count": 3,
   "id": "221bbb02-b59a-4104-862a-50b645ca07e0",
   "metadata": {},
   "outputs": [
    {
     "name": "stdout",
     "output_type": "stream",
     "text": [
      "deb https://repo.scala-sbt.org/scalasbt/debian all main\n",
      "deb https://repo.scala-sbt.org/scalasbt/debian /\n",
      "Warning: apt-key is deprecated. Manage keyring files in trusted.gpg.d instead (see apt-key(8)).\n",
      "OK\n",
      "Get:1 file:/etc/apt/apt-mirrors.txt Mirrorlist [142 B]\n",
      "Get:6 https://packages.microsoft.com/ubuntu/22.04/prod jammy InRelease [3632 B]\n",
      "Hit:2 http://azure.archive.ubuntu.com/ubuntu jammy InRelease                   \n",
      "Get:3 http://azure.archive.ubuntu.com/ubuntu jammy-updates InRelease [119 kB]  \n",
      "Hit:4 http://azure.archive.ubuntu.com/ubuntu jammy-backports InRelease         \n",
      "Get:5 http://azure.archive.ubuntu.com/ubuntu jammy-security InRelease [110 kB] \n",
      "Get:7 https://packages.microsoft.com/ubuntu/22.04/prod jammy/main arm64 Packages [34.8 kB]\n",
      "Get:8 https://packages.microsoft.com/ubuntu/22.04/prod jammy/main amd64 Packages [136 kB]\n",
      "Get:9 https://packages.microsoft.com/ubuntu/22.04/prod jammy/main armhf Packages [12.3 kB]\n",
      "Get:12 http://azure.archive.ubuntu.com/ubuntu jammy-updates/main amd64 Packages [1518 kB]\n",
      "Get:13 http://azure.archive.ubuntu.com/ubuntu jammy-updates/main Translation-en [293 kB]\n",
      "Get:14 http://azure.archive.ubuntu.com/ubuntu jammy-updates/restricted amd64 Packages [1644 kB]\n",
      "Get:15 http://azure.archive.ubuntu.com/ubuntu jammy-updates/restricted Translation-en [274 kB]\n",
      "Get:16 http://azure.archive.ubuntu.com/ubuntu jammy-updates/universe amd64 Packages [1060 kB]\n",
      "Get:17 http://azure.archive.ubuntu.com/ubuntu jammy-updates/universe Translation-en [241 kB]\n",
      "Get:18 http://azure.archive.ubuntu.com/ubuntu jammy-updates/multiverse amd64 Packages [49.6 kB]\n",
      "Get:19 http://azure.archive.ubuntu.com/ubuntu jammy-updates/multiverse Translation-en [12.0 kB]\n",
      "Hit:20 https://ppa.launchpadcontent.net/ubuntu-toolchain-r/test/ubuntu jammy InRelease\n",
      "Get:21 http://azure.archive.ubuntu.com/ubuntu jammy-security/main amd64 Packages [1298 kB]\n",
      "Get:22 http://azure.archive.ubuntu.com/ubuntu jammy-security/main Translation-en [232 kB]\n",
      "Get:23 http://azure.archive.ubuntu.com/ubuntu jammy-security/restricted amd64 Packages [1605 kB]\n",
      "Get:24 http://azure.archive.ubuntu.com/ubuntu jammy-security/restricted Translation-en [270 kB]\n",
      "Get:25 http://azure.archive.ubuntu.com/ubuntu jammy-security/universe amd64 Packages [852 kB]\n",
      "Get:26 http://azure.archive.ubuntu.com/ubuntu jammy-security/universe Translation-en [163 kB]\n",
      "Get:10 https://scala.jfrog.io/artifactory/debian all InRelease [4410 B]        \n",
      "Ign:11 https://scala.jfrog.io/artifactory/debian  InRelease \n",
      "Get:28 https://scala.jfrog.io/artifactory/debian all/main amd64 Packages [2703 B]\n",
      "Get:27 https://scala.jfrog.io/artifactory/debian  Release [815 B]\n",
      "Get:29 https://scala.jfrog.io/artifactory/debian  Release.gpg [821 B]\n",
      "Get:30 https://scala.jfrog.io/artifactory/debian  Packages [5122 B]\n",
      "Fetched 9940 kB in 2s (6220 kB/s)    \n",
      "Reading package lists... Done\n",
      "W: https://repo.scala-sbt.org/scalasbt/debian/dists/all/InRelease: Key is stored in legacy trusted.gpg keyring (/etc/apt/trusted.gpg), see the DEPRECATION section in apt-key(8) for details.\n",
      "W: https://repo.scala-sbt.org/scalasbt/debian/Release.gpg: Key is stored in legacy trusted.gpg keyring (/etc/apt/trusted.gpg), see the DEPRECATION section in apt-key(8) for details.\n",
      "Reading package lists... Done\n",
      "Building dependency tree... Done\n",
      "Reading state information... Done\n",
      "The following NEW packages will be installed:\n",
      "  sbt\n",
      "0 upgraded, 1 newly installed, 0 to remove and 52 not upgraded.\n",
      "Need to get 20.0 kB of archives.\n",
      "After this operation, 50.2 kB of additional disk space will be used.\n",
      "Get:1 https://scala.jfrog.io/artifactory/debian all/main amd64 sbt all 1.9.9 [20.0 kB]\n",
      "Fetched 20.0 kB in 1s (23.8 kB/s)\n",
      "Selecting previously unselected package sbt.\n",
      "(Reading database ... 277234 files and directories currently installed.)\n",
      "Preparing to unpack .../apt/archives/sbt_1.9.9_all.deb ...\n",
      "Unpacking sbt (1.9.9) ...\n",
      "Setting up sbt (1.9.9) ...\n",
      "Creating system group: sbt\n",
      "Creating system user: sbt in sbt with sbt daemon-user and shell /bin/false\n",
      "Processing triggers for man-db (2.10.2-1) ...\n",
      "NEEDRESTART-VER: 3.5\n",
      "NEEDRESTART-KCUR: 6.5.0-1016-azure\n",
      "NEEDRESTART-KEXP: 6.5.0-1016-azure\n",
      "NEEDRESTART-KSTA: 1\n"
     ]
    }
   ],
   "source": [
    "!echo \"deb https://repo.scala-sbt.org/scalasbt/debian all main\" | sudo tee /etc/apt/sources.list.d/sbt.list\n",
    "!echo \"deb https://repo.scala-sbt.org/scalasbt/debian /\" | sudo tee /etc/apt/sources.list.d/sbt_old.list\n",
    "!curl -sL \"https://keyserver.ubuntu.com/pks/lookup?op=get&search=0x2EE0EA64E40A89B84B2DF73499E82A75642AC823\" | sudo apt-key add\n",
    "!sudo apt-get update\n",
    "!sudo apt-get install sbt"
   ]
  },
  {
   "cell_type": "code",
   "execution_count": 4,
   "id": "fadb141a-3951-4db6-a8ba-cd145205adff",
   "metadata": {},
   "outputs": [
    {
     "name": "stdout",
     "output_type": "stream",
     "text": [
      "LICENSE.txt\tevaluation   pdf_dir\t\t     remote.py\n",
      "README.md\tfigures_tmp  pdffigures2-master.zip  run.sh\n",
      "Untitled.ipynb\tng.py\t     project\t\t     src\n",
      "build.sbt\toutput_dir   remote.ipynb\t     wandb\n"
     ]
    }
   ],
   "source": [
    "!ls"
   ]
  },
  {
   "cell_type": "code",
   "execution_count": 5,
   "id": "2913c32b-f4e7-4a9e-8c2e-9cafbc2ca535",
   "metadata": {},
   "outputs": [
    {
     "name": "stdout",
     "output_type": "stream",
     "text": [
      "rm: cannot remove 'output_dir/*': No such file or directory\n"
     ]
    }
   ],
   "source": [
    "!rm output_dir/* "
   ]
  },
  {
   "cell_type": "code",
   "execution_count": 7,
   "id": "893ea65d-6eba-4683-bf93-e156a3a740c8",
   "metadata": {},
   "outputs": [
    {
     "name": "stdout",
     "output_type": "stream",
     "text": [
      "[info] [launcher] getting org.scala-sbt sbt 1.7.1  (this may take some time)...\n",
      "[info] [launcher] getting Scala 2.12.16 (for sbt)...\n",
      "\u001b[0m[\u001b[0m\u001b[0minfo\u001b[0m] \u001b[0m\u001b[0mwelcome to sbt 1.7.1 (Eclipse Adoptium Java 11.0.22)\u001b[0m\n",
      "\u001b[0m[\u001b[0m\u001b[0minfo\u001b[0m] \u001b[0m\u001b[0mloading settings for project testngrok-build from plugins.sbt ...\u001b[0m\n",
      "\u001b[0m[\u001b[0m\u001b[0minfo\u001b[0m] \u001b[0m\u001b[0mloading project definition from /home/runner/work/TestNgrok/TestNgrok/project\u001b[0m\n",
      "\u001b[0m[\u001b[0m\u001b[0minfo\u001b[0m] \u001b[0m\u001b[0mloading settings for project root from build.sbt ...\u001b[0m\n",
      "\u001b[0m[\u001b[0m\u001b[0minfo\u001b[0m] \u001b[0m\u001b[0mset current project to pdffigures2 (in build file:/home/runner/work/TestNgrok/TestNgrok/)\u001b[0m\n",
      "\u001b[0m[\u001b[0m\u001b[0minfo\u001b[0m] \u001b[0m\u001b[0mcompiling 25 Scala sources and 1 Java source to /home/runner/work/TestNgrok/TestNgrok/target/scala-2.12/classes ...\u001b[0m\n",
      "\u001b[0m[\u001b[0m\u001b[0minfo\u001b[0m] \u001b[0m\u001b[0mNon-compiled module 'compiler-bridge_2.12' for Scala 2.12.16. Compiling...\u001b[0m\n",
      "\u001b[0m[\u001b[0m\u001b[0minfo\u001b[0m] \u001b[0m\u001b[0m  Compilation completed in 7.952s.\u001b[0m\n",
      "\u001b[0m[\u001b[0m\u001b[33mwarn\u001b[0m] \u001b[0m\u001b[0mone deprecation\u001b[0m\n",
      "\u001b[0m[\u001b[0m\u001b[33mwarn\u001b[0m] \u001b[0m\u001b[0mone deprecation (since 2.12.0)\u001b[0m\n",
      "\u001b[0m[\u001b[0m\u001b[33mwarn\u001b[0m] \u001b[0m\u001b[0mtwo deprecations in total; re-run with -deprecation for details\u001b[0m\n",
      "\u001b[0m[\u001b[0m\u001b[33mwarn\u001b[0m] \u001b[0m\u001b[0mthree warnings found\u001b[0m\n",
      "\u001b[0m[\u001b[0m\u001b[0minfo\u001b[0m] \u001b[0m\u001b[0mdone compiling\u001b[0m\n",
      "\u001b[0m[\u001b[0m\u001b[0minfo\u001b[0m] \u001b[0m\u001b[0mrunning org.allenai.pdffigures2.FigureExtractorBatchCli pdf_dir/ -s stat_file.json -m output_dir/ -d output_dir/ -e\u001b[0m\n",
      "15:44:04.993 [sbt-bg-threads-1] INFO  o.a.p.FigureExtractorBatchCli$ - Processing file 2110.01889v3.Deep_Neural_Networks_and_Tabular_Data_A_Survey.pdf (1 of 2)\n",
      "15:44:09.786 [sbt-bg-threads-1] DEBUG o.a.p.FormattingTextExtractor$ - Found abstract, marking as body text\n",
      "15:44:09.905 [sbt-bg-threads-1] DEBUG o.a.pdffigures2.DocumentLayout$ - Document was two column\n",
      "15:44:09.996 [sbt-bg-threads-1] DEBUG o.a.pdffigures2.CaptionDetector$ - Applied filter Colon Only, 12 remaining\n",
      "15:44:09.999 [sbt-bg-threads-1] DEBUG o.a.pdffigures2.FigureExtractor - On page 5\n",
      "15:44:10.105 [sbt-bg-threads-1] DEBUG o.a.pdffigures2.GraphicsExtractor$ - Found 6 graphic areas, 6 after cleaning\n",
      "15:44:10.151 [sbt-bg-threads-1] DEBUG o.a.pdffigures2.FigureExtractor - On page 10\n",
      "15:44:10.154 [sbt-bg-threads-1] DEBUG o.a.pdffigures2.GraphicsExtractor$ - Found 3 graphic areas, 3 after cleaning\n",
      "15:44:10.164 [sbt-bg-threads-1] DEBUG o.a.pdffigures2.FigureExtractor - On page 14\n",
      "15:44:10.276 [sbt-bg-threads-1] DEBUG o.a.pdffigures2.GraphicsExtractor$ - Found 8 graphic areas, 8 after cleaning\n",
      "15:44:10.292 [sbt-bg-threads-1] DEBUG o.a.pdffigures2.FigureExtractor - On page 9\n",
      "15:44:10.302 [sbt-bg-threads-1] DEBUG o.a.pdffigures2.GraphicsExtractor$ - Found 2 graphic areas, 2 after cleaning\n",
      "15:44:10.307 [sbt-bg-threads-1] DEBUG o.a.pdffigures2.FigureExtractor - On page 13\n",
      "15:44:10.323 [sbt-bg-threads-1] DEBUG o.a.pdffigures2.GraphicsExtractor$ - Found 11 graphic areas, 11 after cleaning\n",
      "15:44:10.328 [sbt-bg-threads-1] DEBUG o.a.pdffigures2.FigureExtractor - On page 2\n",
      "15:44:10.331 [sbt-bg-threads-1] DEBUG o.a.pdffigures2.GraphicsExtractor$ - Found 1 graphic areas, 1 after cleaning\n",
      "15:44:10.335 [sbt-bg-threads-1] DEBUG o.a.pdffigures2.FigureExtractor - On page 12\n",
      "15:44:10.337 [sbt-bg-threads-1] DEBUG o.a.pdffigures2.GraphicsExtractor$ - Found 3 graphic areas, 3 after cleaning\n",
      "15:44:10.341 [sbt-bg-threads-1] DEBUG o.a.pdffigures2.FigureExtractor - On page 3\n",
      "15:44:10.344 [sbt-bg-threads-1] DEBUG o.a.pdffigures2.GraphicsExtractor$ - Found 1 graphic areas, 1 after cleaning\n",
      "15:44:12.918 [sbt-bg-threads-1] INFO  o.a.p.FigureExtractorBatchCli$ - Finished 2110.01889v3.Deep_Neural_Networks_and_Tabular_Data_A_Survey.pdf in 7.919 seconds\n",
      "15:44:12.919 [sbt-bg-threads-1] INFO  o.a.p.FigureExtractorBatchCli$ - Processing file 2305.18446v2.Trompt_Towards_a_Better_Deep_Neural_Network_for_Tabular_Data.pdf (2 of 2)\n",
      "15:44:13.528 [sbt-bg-threads-1] DEBUG o.a.p.FormattingTextExtractor$ - Page numbers detected\n",
      "15:44:13.528 [sbt-bg-threads-1] DEBUG o.a.p.FormattingTextExtractor$ - Found abstract, marking as body text\n",
      "15:44:13.529 [sbt-bg-threads-1] DEBUG o.a.p.FormattingTextExtractor$ - Found text body beneath the abstract, marking as body text\n",
      "15:44:13.580 [sbt-bg-threads-1] DEBUG o.a.pdffigures2.DocumentLayout$ - Document was two column\n",
      "15:44:13.591 [sbt-bg-threads-1] DEBUG o.a.pdffigures2.CaptionDetector$ - Applied filter Non Standard Font: List(Figure, Table), 60 remaining\n",
      "15:44:13.592 [sbt-bg-threads-1] DEBUG o.a.pdffigures2.FigureExtractor - On page 0\n",
      "15:44:13.594 [sbt-bg-threads-1] DEBUG o.a.pdffigures2.GraphicsExtractor$ - Found 7 graphic areas, 7 after cleaning\n",
      "15:44:13.598 [sbt-bg-threads-1] DEBUG o.a.pdffigures2.FigureExtractor - On page 5\n",
      "15:44:13.600 [sbt-bg-threads-1] DEBUG o.a.pdffigures2.GraphicsExtractor$ - Header line detected\n",
      "15:44:13.601 [sbt-bg-threads-1] DEBUG o.a.pdffigures2.GraphicsExtractor$ - Found 2 graphic areas, 2 after cleaning\n",
      "15:44:13.605 [sbt-bg-threads-1] DEBUG o.a.pdffigures2.FigureExtractor - On page 42\n",
      "15:44:13.606 [sbt-bg-threads-1] DEBUG o.a.pdffigures2.GraphicsExtractor$ - Header line detected\n",
      "15:44:13.607 [sbt-bg-threads-1] DEBUG o.a.pdffigures2.GraphicsExtractor$ - Found 6 graphic areas, 6 after cleaning\n",
      "15:44:13.608 [sbt-bg-threads-1] DEBUG o.a.pdffigures2.FigureExtractor - On page 24\n",
      "15:44:13.614 [sbt-bg-threads-1] DEBUG o.a.pdffigures2.GraphicsExtractor$ - Header line detected\n",
      "15:44:13.614 [sbt-bg-threads-1] DEBUG o.a.pdffigures2.GraphicsExtractor$ - Found 4 graphic areas, 4 after cleaning\n",
      "15:44:13.615 [sbt-bg-threads-1] DEBUG o.a.pdffigures2.FigureExtractor - On page 37\n",
      "15:44:13.617 [sbt-bg-threads-1] DEBUG o.a.pdffigures2.GraphicsExtractor$ - Header line detected\n",
      "15:44:13.617 [sbt-bg-threads-1] DEBUG o.a.pdffigures2.GraphicsExtractor$ - Found 4 graphic areas, 4 after cleaning\n",
      "15:44:13.619 [sbt-bg-threads-1] DEBUG o.a.pdffigures2.FigureExtractor - On page 25\n",
      "15:44:13.625 [sbt-bg-threads-1] DEBUG o.a.pdffigures2.GraphicsExtractor$ - Header line detected\n",
      "15:44:13.625 [sbt-bg-threads-1] DEBUG o.a.pdffigures2.GraphicsExtractor$ - Found 4 graphic areas, 4 after cleaning\n",
      "15:44:13.626 [sbt-bg-threads-1] DEBUG o.a.pdffigures2.FigureExtractor - On page 14\n",
      "15:44:13.628 [sbt-bg-threads-1] DEBUG o.a.pdffigures2.GraphicsExtractor$ - Header line detected\n",
      "15:44:13.629 [sbt-bg-threads-1] DEBUG o.a.pdffigures2.GraphicsExtractor$ - Found 4 graphic areas, 4 after cleaning\n",
      "15:44:13.630 [sbt-bg-threads-1] DEBUG o.a.pdffigures2.FigureExtractor - On page 20\n",
      "15:44:13.634 [sbt-bg-threads-1] DEBUG o.a.pdffigures2.GraphicsExtractor$ - Header line detected\n",
      "15:44:13.635 [sbt-bg-threads-1] DEBUG o.a.pdffigures2.GraphicsExtractor$ - Found 4 graphic areas, 4 after cleaning\n",
      "15:44:13.636 [sbt-bg-threads-1] DEBUG o.a.pdffigures2.FigureExtractor - On page 29\n",
      "15:44:13.650 [sbt-bg-threads-1] DEBUG o.a.pdffigures2.GraphicsExtractor$ - Header line detected\n",
      "15:44:13.650 [sbt-bg-threads-1] DEBUG o.a.pdffigures2.GraphicsExtractor$ - Found 4 graphic areas, 4 after cleaning\n",
      "15:44:13.651 [sbt-bg-threads-1] DEBUG o.a.pdffigures2.FigureExtractor - On page 6\n",
      "15:44:13.653 [sbt-bg-threads-1] DEBUG o.a.pdffigures2.GraphicsExtractor$ - Header line detected\n",
      "15:44:13.653 [sbt-bg-threads-1] DEBUG o.a.pdffigures2.GraphicsExtractor$ - Found 8 graphic areas, 8 after cleaning\n",
      "15:44:13.657 [sbt-bg-threads-1] DEBUG o.a.pdffigures2.FigureExtractor - On page 28\n",
      "15:44:13.662 [sbt-bg-threads-1] DEBUG o.a.pdffigures2.GraphicsExtractor$ - Header line detected\n",
      "15:44:13.662 [sbt-bg-threads-1] DEBUG o.a.pdffigures2.GraphicsExtractor$ - Found 4 graphic areas, 4 after cleaning\n",
      "15:44:13.664 [sbt-bg-threads-1] DEBUG o.a.pdffigures2.FigureExtractor - On page 38\n",
      "15:44:13.665 [sbt-bg-threads-1] DEBUG o.a.pdffigures2.GraphicsExtractor$ - Header line detected\n",
      "15:44:13.666 [sbt-bg-threads-1] DEBUG o.a.pdffigures2.GraphicsExtractor$ - Found 6 graphic areas, 6 after cleaning\n",
      "15:44:13.668 [sbt-bg-threads-1] DEBUG o.a.pdffigures2.FigureExtractor - On page 21\n",
      "15:44:13.668 [sbt-bg-threads-1] DEBUG o.a.pdffigures2.GraphicsExtractor$ - Header line detected\n",
      "15:44:13.668 [sbt-bg-threads-1] DEBUG o.a.pdffigures2.GraphicsExtractor$ - Found 1 graphic areas, 1 after cleaning\n",
      "15:44:13.669 [sbt-bg-threads-1] DEBUG o.a.pdffigures2.FigureExtractor - On page 33\n",
      "15:44:13.669 [sbt-bg-threads-1] DEBUG o.a.pdffigures2.GraphicsExtractor$ - Header line detected\n",
      "15:44:13.670 [sbt-bg-threads-1] DEBUG o.a.pdffigures2.GraphicsExtractor$ - Found 2 graphic areas, 2 after cleaning\n",
      "15:44:13.671 [sbt-bg-threads-1] DEBUG o.a.pdffigures2.FigureExtractor - On page 13\n",
      "15:44:13.672 [sbt-bg-threads-1] DEBUG o.a.pdffigures2.GraphicsExtractor$ - Header line detected\n",
      "15:44:13.673 [sbt-bg-threads-1] DEBUG o.a.pdffigures2.GraphicsExtractor$ - Found 3 graphic areas, 3 after cleaning\n",
      "15:44:13.673 [sbt-bg-threads-1] DEBUG o.a.pdffigures2.FigureExtractor - On page 41\n",
      "15:44:13.676 [sbt-bg-threads-1] DEBUG o.a.pdffigures2.GraphicsExtractor$ - Header line detected\n",
      "15:44:13.676 [sbt-bg-threads-1] DEBUG o.a.pdffigures2.GraphicsExtractor$ - Found 12 graphic areas, 12 after cleaning\n",
      "15:44:13.680 [sbt-bg-threads-1] DEBUG o.a.pdffigures2.FigureExtractor - On page 2\n",
      "15:44:13.696 [sbt-bg-threads-1] DEBUG o.a.pdffigures2.GraphicsExtractor$ - Header line detected\n",
      "15:44:13.697 [sbt-bg-threads-1] DEBUG o.a.pdffigures2.GraphicsExtractor$ - Found 1 graphic areas, 1 after cleaning\n",
      "15:44:13.700 [sbt-bg-threads-1] DEBUG o.a.pdffigures2.FigureExtractor - On page 32\n",
      "15:44:13.700 [sbt-bg-threads-1] DEBUG o.a.pdffigures2.GraphicsExtractor$ - Header line detected\n",
      "15:44:13.700 [sbt-bg-threads-1] DEBUG o.a.pdffigures2.GraphicsExtractor$ - Found 1 graphic areas, 1 after cleaning\n",
      "15:44:13.701 [sbt-bg-threads-1] DEBUG o.a.pdffigures2.FigureExtractor - On page 34\n",
      "15:44:13.704 [sbt-bg-threads-1] DEBUG o.a.pdffigures2.GraphicsExtractor$ - Header line detected\n",
      "15:44:13.705 [sbt-bg-threads-1] DEBUG o.a.pdffigures2.GraphicsExtractor$ - Found 1 graphic areas, 1 after cleaning\n",
      "15:44:13.706 [sbt-bg-threads-1] DEBUG o.a.pdffigures2.FigureExtractor - On page 17\n",
      "15:44:13.712 [sbt-bg-threads-1] DEBUG o.a.pdffigures2.GraphicsExtractor$ - Header line detected\n",
      "15:44:13.713 [sbt-bg-threads-1] DEBUG o.a.pdffigures2.GraphicsExtractor$ - Found 4 graphic areas, 4 after cleaning\n",
      "15:44:13.713 [sbt-bg-threads-1] DEBUG o.a.pdffigures2.FigureExtractor - On page 22\n",
      "15:44:13.714 [sbt-bg-threads-1] DEBUG o.a.pdffigures2.GraphicsExtractor$ - Header line detected\n",
      "15:44:13.714 [sbt-bg-threads-1] DEBUG o.a.pdffigures2.GraphicsExtractor$ - Found 1 graphic areas, 1 after cleaning\n",
      "15:44:13.714 [sbt-bg-threads-1] DEBUG o.a.pdffigures2.FigureExtractor - On page 27\n",
      "15:44:13.719 [sbt-bg-threads-1] DEBUG o.a.pdffigures2.GraphicsExtractor$ - Header line detected\n",
      "15:44:13.720 [sbt-bg-threads-1] DEBUG o.a.pdffigures2.GraphicsExtractor$ - Found 4 graphic areas, 4 after cleaning\n",
      "15:44:13.721 [sbt-bg-threads-1] DEBUG o.a.pdffigures2.FigureExtractor - On page 7\n",
      "15:44:13.723 [sbt-bg-threads-1] DEBUG o.a.pdffigures2.GraphicsExtractor$ - Header line detected\n",
      "15:44:13.724 [sbt-bg-threads-1] DEBUG o.a.pdffigures2.GraphicsExtractor$ - Found 6 graphic areas, 6 after cleaning\n",
      "15:44:13.726 [sbt-bg-threads-1] DEBUG o.a.pdffigures2.FigureExtractor - On page 39\n",
      "15:44:13.728 [sbt-bg-threads-1] DEBUG o.a.pdffigures2.GraphicsExtractor$ - Header line detected\n",
      "15:44:13.728 [sbt-bg-threads-1] DEBUG o.a.pdffigures2.GraphicsExtractor$ - Found 4 graphic areas, 4 after cleaning\n",
      "15:44:13.730 [sbt-bg-threads-1] DEBUG o.a.pdffigures2.FigureExtractor - On page 3\n",
      "15:44:13.840 [sbt-bg-threads-1] DEBUG o.a.pdffigures2.GraphicsExtractor$ - Header line detected\n",
      "15:44:13.841 [sbt-bg-threads-1] DEBUG o.a.pdffigures2.GraphicsExtractor$ - Found 1 graphic areas, 1 after cleaning\n",
      "15:44:13.844 [sbt-bg-threads-1] DEBUG o.a.pdffigures2.FigureExtractor - On page 35\n",
      "15:44:13.857 [sbt-bg-threads-1] DEBUG o.a.pdffigures2.GraphicsExtractor$ - Header line detected\n",
      "15:44:13.858 [sbt-bg-threads-1] DEBUG o.a.pdffigures2.GraphicsExtractor$ - Found 2 graphic areas, 2 after cleaning\n",
      "15:44:13.860 [sbt-bg-threads-1] DEBUG o.a.pdffigures2.FigureExtractor - On page 18\n",
      "15:44:13.871 [sbt-bg-threads-1] DEBUG o.a.pdffigures2.GraphicsExtractor$ - Header line detected\n",
      "15:44:13.871 [sbt-bg-threads-1] DEBUG o.a.pdffigures2.GraphicsExtractor$ - Found 4 graphic areas, 4 after cleaning\n",
      "15:44:13.873 [sbt-bg-threads-1] DEBUG o.a.pdffigures2.FigureExtractor - On page 16\n",
      "15:44:13.886 [sbt-bg-threads-1] DEBUG o.a.pdffigures2.GraphicsExtractor$ - Header line detected\n",
      "15:44:13.887 [sbt-bg-threads-1] DEBUG o.a.pdffigures2.GraphicsExtractor$ - Found 4 graphic areas, 4 after cleaning\n",
      "15:44:13.888 [sbt-bg-threads-1] DEBUG o.a.pdffigures2.FigureExtractor - On page 31\n",
      "15:44:13.889 [sbt-bg-threads-1] DEBUG o.a.pdffigures2.GraphicsExtractor$ - Header line detected\n",
      "15:44:13.889 [sbt-bg-threads-1] DEBUG o.a.pdffigures2.GraphicsExtractor$ - Found 1 graphic areas, 1 after cleaning\n",
      "15:44:13.889 [sbt-bg-threads-1] DEBUG o.a.pdffigures2.FigureExtractor - On page 40\n",
      "15:44:13.893 [sbt-bg-threads-1] DEBUG o.a.pdffigures2.GraphicsExtractor$ - Header line detected\n",
      "15:44:13.893 [sbt-bg-threads-1] DEBUG o.a.pdffigures2.GraphicsExtractor$ - Found 12 graphic areas, 12 after cleaning\n",
      "15:44:13.895 [sbt-bg-threads-1] DEBUG o.a.pdffigures2.FigureExtractor - On page 26\n",
      "15:44:13.958 [sbt-bg-threads-1] DEBUG o.a.pdffigures2.GraphicsExtractor$ - Header line detected\n",
      "15:44:13.958 [sbt-bg-threads-1] DEBUG o.a.pdffigures2.GraphicsExtractor$ - Found 4 graphic areas, 4 after cleaning\n",
      "15:44:13.961 [sbt-bg-threads-1] DEBUG o.a.pdffigures2.FigureExtractor - On page 23\n",
      "15:44:13.962 [sbt-bg-threads-1] DEBUG o.a.pdffigures2.GraphicsExtractor$ - Header line detected\n",
      "15:44:13.962 [sbt-bg-threads-1] DEBUG o.a.pdffigures2.GraphicsExtractor$ - Found 2 graphic areas, 2 after cleaning\n",
      "15:44:13.964 [sbt-bg-threads-1] DEBUG o.a.pdffigures2.FigureExtractor - On page 8\n",
      "15:44:13.967 [sbt-bg-threads-1] DEBUG o.a.pdffigures2.GraphicsExtractor$ - Header line detected\n",
      "15:44:13.967 [sbt-bg-threads-1] DEBUG o.a.pdffigures2.GraphicsExtractor$ - Found 1 graphic areas, 1 after cleaning\n",
      "15:44:13.969 [sbt-bg-threads-1] DEBUG o.a.pdffigures2.FigureExtractor - On page 36\n",
      "15:44:13.971 [sbt-bg-threads-1] DEBUG o.a.pdffigures2.GraphicsExtractor$ - Header line detected\n",
      "15:44:13.971 [sbt-bg-threads-1] DEBUG o.a.pdffigures2.GraphicsExtractor$ - Found 2 graphic areas, 2 after cleaning\n",
      "15:44:13.974 [sbt-bg-threads-1] DEBUG o.a.pdffigures2.FigureExtractor - On page 30\n",
      "15:44:13.979 [sbt-bg-threads-1] DEBUG o.a.pdffigures2.GraphicsExtractor$ - Header line detected\n",
      "15:44:13.979 [sbt-bg-threads-1] DEBUG o.a.pdffigures2.GraphicsExtractor$ - Found 4 graphic areas, 4 after cleaning\n",
      "15:44:13.980 [sbt-bg-threads-1] DEBUG o.a.pdffigures2.FigureExtractor - On page 19\n",
      "15:44:13.984 [sbt-bg-threads-1] DEBUG o.a.pdffigures2.GraphicsExtractor$ - Header line detected\n",
      "15:44:13.985 [sbt-bg-threads-1] DEBUG o.a.pdffigures2.GraphicsExtractor$ - Found 4 graphic areas, 4 after cleaning\n",
      "15:44:13.986 [sbt-bg-threads-1] DEBUG o.a.pdffigures2.FigureExtractor - On page 4\n",
      "15:44:13.993 [sbt-bg-threads-1] DEBUG o.a.pdffigures2.GraphicsExtractor$ - Header line detected\n",
      "15:44:13.994 [sbt-bg-threads-1] DEBUG o.a.pdffigures2.GraphicsExtractor$ - Found 2 graphic areas, 2 after cleaning\n",
      "15:44:13.997 [sbt-bg-threads-1] DEBUG o.a.pdffigures2.FigureExtractor - On page 15\n",
      "15:44:13.998 [sbt-bg-threads-1] DEBUG o.a.pdffigures2.GraphicsExtractor$ - Header line detected\n",
      "15:44:13.999 [sbt-bg-threads-1] DEBUG o.a.pdffigures2.GraphicsExtractor$ - Found 2 graphic areas, 2 after cleaning\n",
      "15:44:22.355 [sbt-bg-threads-1] INFO  o.a.p.FigureExtractorBatchCli$ - Finished 2305.18446v2.Trompt_Towards_a_Better_Deep_Neural_Network_for_Tabular_Data.pdf in 9.435 seconds\n",
      "15:44:22.356 [sbt-bg-threads-1] INFO  o.a.p.FigureExtractorBatchCli$ - Finished processing 2 files\n",
      "15:44:22.356 [sbt-bg-threads-1] INFO  o.a.p.FigureExtractorBatchCli$ - Took 17.364 seconds\n",
      "15:44:22.357 [sbt-bg-threads-1] INFO  o.a.p.FigureExtractorBatchCli$ - Stats saved to stat_file.json\n",
      "15:44:22.362 [sbt-bg-threads-1] INFO  o.a.p.FigureExtractorBatchCli$ - No errors\n",
      "\u001b[0m[\u001b[0m\u001b[32msuccess\u001b[0m] \u001b[0m\u001b[0mTotal time: 35 s, completed Mar 28, 2024, 3:44:22 PM\u001b[0m\n",
      "\u001b[0J"
     ]
    }
   ],
   "source": [
    "!sbt \"runMain org.allenai.pdffigures2.FigureExtractorBatchCli pdf_dir/ -s stat_file.json -m output_dir/ -d output_dir/ -e\""
   ]
  },
  {
   "cell_type": "code",
   "execution_count": 8,
   "id": "829a0803-b6cd-478b-b1ff-a61bbc73625b",
   "metadata": {},
   "outputs": [
    {
     "name": "stdout",
     "output_type": "stream",
     "text": [
      "rm: cannot remove 'figures_tmp/*': No such file or directory\n"
     ]
    }
   ],
   "source": [
    "!find output_dir/ | grep -P \"Figure\" | xargs -i cp {} figures_tmp/"
   ]
  },
  {
   "cell_type": "code",
   "execution_count": 10,
   "id": "5edd506c-0de6-49e0-8619-856c6627024c",
   "metadata": {},
   "outputs": [],
   "source": [
    "!ls figures_tmp"
   ]
  },
  {
   "cell_type": "code",
   "execution_count": null,
   "id": "88576f2d-94d3-4636-a579-30aecacd8492",
   "metadata": {},
   "outputs": [],
   "source": [
    "!pwd"
   ]
  }
 ],
 "metadata": {
  "kernelspec": {
   "display_name": "Python 3 (ipykernel)",
   "language": "python",
   "name": "python3"
  },
  "language_info": {
   "codemirror_mode": {
    "name": "ipython",
    "version": 3
   },
   "file_extension": ".py",
   "mimetype": "text/x-python",
   "name": "python",
   "nbconvert_exporter": "python",
   "pygments_lexer": "ipython3",
   "version": "3.10.12"
  }
 },
 "nbformat": 4,
 "nbformat_minor": 5
}
